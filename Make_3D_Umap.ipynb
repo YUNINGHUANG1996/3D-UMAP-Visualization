{
 "cells": [
  {
   "cell_type": "code",
   "execution_count": null,
   "id": "aad9bcd4-3ba8-4152-8177-88294562a536",
   "metadata": {},
   "outputs": [],
   "source": [
    "import scanpy as sc\n",
    "import anndata as ann\n",
    "import numpy as np\n",
    "import scipy as sp\n",
    "import louvain\n",
    "import pandas as pd\n",
    "import igraph as ig\n",
    "import matplotlib.pyplot as plt\n",
    "from matplotlib import rcParams\n",
    "from matplotlib import colors\n",
    "\n",
    "import os\n",
    "\n",
    "#doublet detection\n",
    "import scrublet as scr\n",
    "#batch correction (not installed by default in the docker container, install via command line: pip install scanorama bbknn)\n",
    "import scanorama as scan\n",
    "#external modules\n",
    "import scanpy.external as sce\n",
    "#pretty plotting\n",
    "import seaborn as sb \n"
   ]
  },
  {
   "cell_type": "code",
   "execution_count": null,
   "id": "18d8d791-e535-40ca-af33-275d0ab75441",
   "metadata": {},
   "outputs": [],
   "source": [
    "#import your adata\n",
    "adata = sc.read_h5ad(\"/scratch1/yuninghu/Single_cell/AD_project/AD_project_allsex_scrubblet_harmony_leiden_namedcluster03.h5ad\")\n",
    "adata.obs\n"
   ]
  },
  {
   "cell_type": "code",
   "execution_count": null,
   "id": "1d6f95c0-5714-4d88-9f35-6aa676c20140",
   "metadata": {},
   "outputs": [],
   "source": [
    "#this is 3d umap\n",
    "sc.tl.umap(adata, n_components=3)"
   ]
  },
  {
   "cell_type": "code",
   "execution_count": null,
   "id": "8793e2ae-3a1a-4a05-ac2e-1718ac3a7e74",
   "metadata": {},
   "outputs": [],
   "source": [
    "umap= adata.obsm[\"X_umap\"]"
   ]
  },
  {
   "cell_type": "code",
   "execution_count": null,
   "id": "d7af1d24-133b-459d-a07a-3438d4999989",
   "metadata": {},
   "outputs": [],
   "source": [
    "#match the color code on the named clusters\n",
    "# Step 1: Force values to string\n",
    "celltypes = adata.obs['cell_types0.3'].astype(str).unique()\n",
    "\n",
    "# Step 2: Create color dictionary\n",
    "color_dict = dict(zip(celltypes, plt.cm.tab20.colors[:len(celltypes)]))\n",
    "\n",
    "# Step 3: Apply the mapping — also convert the column to str\n",
    "colors = adata.obs['cell_types0.3'].astype(str).map(color_dict)\n"
   ]
  },
  {
   "cell_type": "code",
   "execution_count": null,
   "id": "3683a44b-50f5-427a-92bb-71de9527133c",
   "metadata": {},
   "outputs": [],
   "source": []
  }
 ],
 "metadata": {
  "kernelspec": {
   "display_name": "Python 3.12.5 (default)",
   "language": "python",
   "name": "python3"
  },
  "language_info": {
   "codemirror_mode": {
    "name": "ipython",
    "version": 3
   },
   "file_extension": ".py",
   "mimetype": "text/x-python",
   "name": "python",
   "nbconvert_exporter": "python",
   "pygments_lexer": "ipython3",
   "version": "3.12.5"
  }
 },
 "nbformat": 4,
 "nbformat_minor": 5
}
